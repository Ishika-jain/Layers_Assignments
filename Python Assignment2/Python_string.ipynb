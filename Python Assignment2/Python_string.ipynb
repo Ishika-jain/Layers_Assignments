{
 "cells": [
  {
   "cell_type": "code",
   "execution_count": 9,
   "id": "56b939a4",
   "metadata": {},
   "outputs": [
    {
     "name": "stdout",
     "output_type": "stream",
     "text": [
      "iShIka\n",
      "IsHiKA\n"
     ]
    }
   ],
   "source": [
    "#sWap CASE\n",
    "def swap_case(s):\n",
    " case_change=[]\n",
    " for i in range(len(s)):\n",
    "        if (s[i].isupper())==True:\n",
    "            case_change.append(s[i].lower())\n",
    "        elif (s[i].islower()==True):\n",
    "            case_change.append(s[i].upper())\n",
    "        else:\n",
    "            case_change.append(s[i])    \n",
    "        stri=''\n",
    " return stri.join(case_change)\n",
    "\n",
    "\n",
    "    \n",
    "\n",
    "if __name__ == '__main__':\n",
    "    s = input()\n",
    "    result = swap_case(s)\n",
    "    print(result)\n",
    "                  "
   ]
  },
  {
   "cell_type": "code",
   "execution_count": 10,
   "id": "3b39397d",
   "metadata": {},
   "outputs": [
    {
     "name": "stdout",
     "output_type": "stream",
     "text": [
      "is an apple a banana ?\n",
      "is-an-apple-a-banana-?\n"
     ]
    }
   ],
   "source": [
    "#String split and join\n",
    "def split_and_join(line):\n",
    "    a = line.split(\" \")\n",
    "    a = \"-\".join(a)\n",
    "    return a\n",
    "\n",
    "line = input()\n",
    "result = split_and_join(line)\n",
    "print(result)"
   ]
  },
  {
   "cell_type": "code",
   "execution_count": 11,
   "id": "ea25e5f0",
   "metadata": {},
   "outputs": [
    {
     "name": "stdout",
     "output_type": "stream",
     "text": [
      "ishika jain\n",
      "jain\n",
      "Hello ishika jain jain! You just delved into python.\n"
     ]
    }
   ],
   "source": [
    "#what is your name\n",
    "def print_full_name(a, b):\n",
    "    b = b+\"!\"\n",
    "    print(\"Hello\",a, b,\"You just delved into python.\");\n",
    "    \n",
    "if __name__ == '__main__':\n",
    "    first_name = input()\n",
    "    last_name = input()\n",
    "    print_full_name(first_name, last_name)"
   ]
  },
  {
   "cell_type": "code",
   "execution_count": 12,
   "id": "d7610b1a",
   "metadata": {},
   "outputs": [
    {
     "name": "stdout",
     "output_type": "stream",
     "text": [
      "abcdbcdbb\n",
      "5 b\n",
      "abcdbbdbb\n"
     ]
    }
   ],
   "source": [
    "# Mutations in Python\n",
    "def mutate_string(string, position, character):\n",
    "    pos = position+1\n",
    "    Output = string[:position]+character+string[pos:]\n",
    "    return Output\n",
    "if __name__ == '__main__':\n",
    "    s = input()\n",
    "    i, c = input().split()\n",
    "    s_new = mutate_string(s, int(i), c)\n",
    "    print(s_new)"
   ]
  },
  {
   "cell_type": "code",
   "execution_count": 15,
   "id": "23ef54d3",
   "metadata": {},
   "outputs": [
    {
     "name": "stdout",
     "output_type": "stream",
     "text": [
      "ishika\n",
      "ika\n",
      "1\n"
     ]
    }
   ],
   "source": [
    "# Find a string in Python\n",
    "def count_substring(string, sub_string):\n",
    "    count = 0\n",
    "    for i in range(len(string)-len(sub_string)+1):\n",
    "        if (string[i:i+len(sub_string)] == sub_string):\n",
    "            count += 1\n",
    "    return count\n",
    "if __name__ == '__main__':\n",
    "    string = input().strip()\n",
    "    sub_string = input().strip()\n",
    "    \n",
    "    count = count_substring(string, sub_string)\n",
    "    print (count)"
   ]
  },
  {
   "cell_type": "code",
   "execution_count": 20,
   "id": "8445de95",
   "metadata": {},
   "outputs": [
    {
     "name": "stdout",
     "output_type": "stream",
     "text": [
      "aB2\n",
      "True\n",
      "True\n",
      "True\n",
      "True\n",
      "True\n"
     ]
    }
   ],
   "source": [
    "# String Validators in Python\n",
    "def fun1(s):\n",
    "    for i in range(len(s)):\n",
    "        if(s[i].isalnum()):\n",
    "            return True;\n",
    "            break;\n",
    "    return False;\n",
    "        \n",
    "def fun2(s):\n",
    "    for i in range(len(s)):\n",
    "        if(s[i].isalpha()):\n",
    "            return True;\n",
    "            break;\n",
    "    return False;\n",
    "\n",
    "def fun3(s):\n",
    "    for i in range(len(s)):\n",
    "        if(s[i].isdigit()):\n",
    "            return True;\n",
    "            break;\n",
    "    return False;\n",
    "\n",
    "def fun4(s):\n",
    "    for i in range(len(s)):\n",
    "        if(s[i].islower()):\n",
    "            return True;\n",
    "            break;\n",
    "    return False; \n",
    "     \n",
    "def fun5(s):\n",
    "    for i in range(len(s)):\n",
    "        if(s[i].isupper()):\n",
    "            return True;\n",
    "            break;\n",
    "    return False;\n",
    "     \n",
    "if __name__ == '__main__':\n",
    "    s = input()\n",
    "    flagalphanum = fun1(s)\n",
    "    alphabetical = fun2(s)\n",
    "    digits = fun3(s)\n",
    "    lowercase = fun4(s)\n",
    "    uppercase = fun5(s)\n",
    "    print(flagalphanum)\n",
    "    print(alphabetical)\n",
    "    print(digits)\n",
    "    print(lowercase)\n",
    "    print(uppercase)\n"
   ]
  },
  {
   "cell_type": "code",
   "execution_count": 22,
   "id": "1cab03ae",
   "metadata": {
    "scrolled": true
   },
   "outputs": [
    {
     "name": "stdout",
     "output_type": "stream",
     "text": [
      "3\n",
      "  H  \n",
      " HHH \n",
      "HHHHH\n",
      " HHH         HHH        \n",
      " HHH         HHH        \n",
      " HHH         HHH        \n",
      " HHH         HHH        \n",
      " HHHHHHHHHHHHHHH  \n",
      " HHHHHHHHHHHHHHH  \n",
      " HHH         HHH        \n",
      " HHH         HHH        \n",
      " HHH         HHH        \n",
      " HHH         HHH        \n",
      "            HHHHH \n",
      "             HHH  \n",
      "              H   \n"
     ]
    }
   ],
   "source": [
    "#text alignment\n",
    "thickness = int(input()) #This must be an odd number\n",
    "c = 'H'\n",
    "\n",
    "#Top Cone\n",
    "for i in range(thickness):\n",
    "    print((c*i).rjust(thickness-1)+c+(c*i).ljust(thickness-1))\n",
    "\n",
    "#Top Pillars\n",
    "for i in range(thickness+1):\n",
    "    print((c*thickness).center(thickness*2)+(c*thickness).center(thickness*6))\n",
    "\n",
    "#Middle Belt\n",
    "for i in range((thickness+1)//2):\n",
    "    print((c*thickness*5).center(thickness*6))    \n",
    "\n",
    "#Bottom Pillars\n",
    "for i in range(thickness+1):\n",
    "    print((c*thickness).center(thickness*2)+(c*thickness).center(thickness*6))    \n",
    "\n",
    "#Bottom Cone\n",
    "for i in range(thickness):\n",
    "    print(((c*(thickness-i-1)).rjust(thickness)+c+(c*(thickness-i-1)).ljust(thickness)).rjust(thickness*6))"
   ]
  },
  {
   "cell_type": "code",
   "execution_count": 23,
   "id": "fd2ebad6",
   "metadata": {},
   "outputs": [
    {
     "name": "stdout",
     "output_type": "stream",
     "text": [
      "5 15\n",
      "------.|.------\n",
      "---.|..|..|.---\n",
      "----WELCOME----\n",
      "---.|..|..|.---\n",
      "------.|.------\n"
     ]
    }
   ],
   "source": [
    "# Designer Door Mat in Python\n",
    "N, M = map(int, input().split())\n",
    "for i in range(1, N, 2):\n",
    "    print(str('.|.' * i).center(M, '-'))\n",
    "print('WELCOME'.center(M, '-'))\n",
    "for i in range(N-2, -1, -2):\n",
    "    print(str('.|.' * i).center(M, '-'))\n"
   ]
  },
  {
   "cell_type": "code",
   "execution_count": 24,
   "id": "760659c8",
   "metadata": {},
   "outputs": [
    {
     "name": "stdout",
     "output_type": "stream",
     "text": [
      "ABCSJWSLIHBLSHFUBVKGHASRGVHWRGFWGRGUVWURGUGURFUGVWUR\n",
      "5\n",
      "ABCSJ\n",
      "WSLIH\n",
      "BLSHF\n",
      "UBVKG\n",
      "HASRG\n",
      "VHWRG\n",
      "FWGRG\n",
      "UVWUR\n",
      "GUGUR\n",
      "FUGVW\n",
      "UR\n"
     ]
    }
   ],
   "source": [
    "# Text Wrap in Python\n",
    "import textwrap\n",
    "\n",
    "def wrap(string, max_width):\n",
    "    return textwrap.fill(string,max_width)\n",
    "\n",
    "if __name__ == '__main__':\n",
    "    string, max_width = input(), int(input())\n",
    "    result = wrap(string, max_width)\n",
    "    print(result)"
   ]
  },
  {
   "cell_type": "code",
   "execution_count": 25,
   "id": "dee9fc7a",
   "metadata": {},
   "outputs": [
    {
     "name": "stdout",
     "output_type": "stream",
     "text": [
      "15\n",
      "   1    1    1    1 \n",
      "   2    2    2   10 \n",
      "   3    3    3   11 \n",
      "   4    4    4  100 \n",
      "   5    5    5  101 \n",
      "   6    6    6  110 \n",
      "   7    7    7  111 \n",
      "   8   10    8 1000 \n",
      "   9   11    9 1001 \n",
      "  10   12    A 1010 \n",
      "  11   13    B 1011 \n",
      "  12   14    C 1100 \n",
      "  13   15    D 1101 \n",
      "  14   16    E 1110 \n",
      "  15   17    F 1111 \n"
     ]
    }
   ],
   "source": [
    "# String Formatting in Python\n",
    "def print_formatted(number):\n",
    "    l1 = len(bin(number)[2:])\n",
    "   \n",
    "    for i in range(1,number+1):\n",
    "        print(str(i).rjust(l1,' '),end=\" \")\n",
    "        print(oct(i)[2:].rjust(l1,' '),end=\" \")\n",
    "        print(((hex(i)[2:]).upper()).rjust(l1,' '),end=\" \")\n",
    "        print(bin(i)[2:].rjust(l1,' '),end=\" \")\n",
    "        print(\"\")\n",
    "    # Strig Formatting in Python - HackerRank Solution END\n",
    "\n",
    "if __name__ == '__main__':\n",
    "    n = int(input())\n",
    "    print_formatted(n)"
   ]
  },
  {
   "cell_type": "code",
   "execution_count": 27,
   "id": "7198c45f",
   "metadata": {},
   "outputs": [
    {
     "name": "stdout",
     "output_type": "stream",
     "text": [
      "5\n",
      "--------e--------\n",
      "------e-d-e------\n",
      "----e-d-c-d-e----\n",
      "--e-d-c-b-c-d-e--\n",
      "e-d-c-b-a-b-c-d-e\n",
      "--e-d-c-b-c-d-e--\n",
      "----e-d-c-d-e----\n",
      "------e-d-e------\n",
      "--------e--------\n"
     ]
    }
   ],
   "source": [
    "# Alphabet Rangoli in Python\n",
    "def print_rangoli(size):\n",
    "    width  = size*4-3\n",
    "    string = ''\n",
    "\n",
    "    for i in range(1,size+1):\n",
    "        for j in range(0,i):\n",
    "            string += chr(96+size-j)\n",
    "            if len(string) < width :\n",
    "                string += '-'\n",
    "        for k in range(i-1,0,-1):    \n",
    "            string += chr(97+size-k)\n",
    "            if len(string) < width :\n",
    "                string += '-'\n",
    "        print(string.center(width,'-'))\n",
    "        string = ''\n",
    "\n",
    "    for i in range(size-1,0,-1):\n",
    "        string = ''\n",
    "        for j in range(0,i):\n",
    "            string += chr(96+size-j)\n",
    "            if len(string) < width :\n",
    "                string += '-'\n",
    "        for k in range(i-1,0,-1):\n",
    "            string += chr(97+size-k)\n",
    "            if len(string) < width :\n",
    "                string += '-'\n",
    "        print(string.center(width,'-'))\n",
    "        \n",
    "\n",
    "if __name__ == '__main__':\n",
    "    n = int(input())\n",
    "    print_rangoli(n)"
   ]
  },
  {
   "cell_type": "code",
   "execution_count": null,
   "id": "d56b23f6",
   "metadata": {},
   "outputs": [],
   "source": [
    "# Capitalize in Python\n",
    "import math\n",
    "import os\n",
    "import random\n",
    "import re\n",
    "import sys\n",
    "def solve(s):\n",
    "    for i in s.split():\n",
    "        s = s.replace(i,i.capitalize())\n",
    "    return s\n",
    "if __name__ == '__main__':\n",
    "    fptr = open(os.environ['OUTPUT_PATH'], 'w')\n",
    "\n",
    "    s = input()\n",
    "\n",
    "    result = solve(s)\n",
    "\n",
    "    fptr.write(result + '\\n')\n",
    "\n",
    "    fptr.close()"
   ]
  },
  {
   "cell_type": "code",
   "execution_count": 29,
   "id": "bc37c4d6",
   "metadata": {},
   "outputs": [
    {
     "name": "stdout",
     "output_type": "stream",
     "text": [
      "bananana\n",
      "Stuart 36\n"
     ]
    }
   ],
   "source": [
    "# The Minion Game in Python\n",
    "def minion_game(string):\n",
    "    player1 = 0;\n",
    "    player2 = 0;\n",
    "    str_len = len(string)\n",
    "    for i in range(str_len):\n",
    "        if s[i] in \"AEIOU\":\n",
    "            player1 += (str_len)-i\n",
    "        else :\n",
    "            player2 += (str_len)-i\n",
    "    \n",
    "    if player1 > player2:\n",
    "        print(\"Kevin\", player1)\n",
    "    elif player1 < player2:\n",
    "        print(\"Stuart\",player2)\n",
    "    elif player1 == player2:\n",
    "        print(\"Draw\")\n",
    "    else :\n",
    "        print(\"Draw\")\n",
    "\n",
    "if __name__ == '__main__':\n",
    "    s = input()\n",
    "    minion_game(s)"
   ]
  },
  {
   "cell_type": "code",
   "execution_count": 31,
   "id": "e9c665ae",
   "metadata": {},
   "outputs": [
    {
     "name": "stdout",
     "output_type": "stream",
     "text": [
      "AABBCCBABCBACBABAC\n",
      "3\n",
      "AB\n",
      "BC\n",
      "BA\n",
      "CBA\n",
      "CBA\n",
      "BAC\n"
     ]
    }
   ],
   "source": [
    "# Merge the Tools in python\n",
    "from collections import OrderedDict\n",
    "def merge_the_tools(string, k):\n",
    "    strlen = len(string)\n",
    "    for i in range(0,strlen,k):\n",
    "        print(''.join(OrderedDict.fromkeys(string[i:i + k])))\n",
    "if __name__ == '__main__':\n",
    "    string, k = input(), int(input())\n",
    "    merge_the_tools(string, k)"
   ]
  },
  {
   "cell_type": "markdown",
   "id": "abc56325",
   "metadata": {},
   "source": [
    " "
   ]
  },
  {
   "cell_type": "code",
   "execution_count": null,
   "id": "dab3f144",
   "metadata": {},
   "outputs": [],
   "source": []
  },
  {
   "cell_type": "code",
   "execution_count": null,
   "id": "eff9f73b",
   "metadata": {},
   "outputs": [],
   "source": []
  }
 ],
 "metadata": {
  "kernelspec": {
   "display_name": "Python 3 (ipykernel)",
   "language": "python",
   "name": "python3"
  },
  "language_info": {
   "codemirror_mode": {
    "name": "ipython",
    "version": 3
   },
   "file_extension": ".py",
   "mimetype": "text/x-python",
   "name": "python",
   "nbconvert_exporter": "python",
   "pygments_lexer": "ipython3",
   "version": "3.10.2"
  }
 },
 "nbformat": 4,
 "nbformat_minor": 5
}
